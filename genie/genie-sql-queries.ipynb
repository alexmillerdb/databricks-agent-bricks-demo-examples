{
 "cells": [
  {
   "cell_type": "code",
   "execution_count": 0,
   "metadata": {
    "application/vnd.databricks.v1+cell": {
     "cellMetadata": {},
     "inputWidgets": {},
     "nuid": "ba057661-5c74-4dcc-b037-f9e98fdc054a",
     "showTitle": false,
     "tableResultSettingsMap": {},
     "title": ""
    }
   },
   "outputs": [],
   "source": [
    "dbutils.widgets.text(\"uc_catalog\", \"main\")\n",
    "dbutils.widgets.text(\"uc_schema\", \"mfg_agent_bricks_demo\")\n",
    "dbutils.widgets.text(\"uc_volume\", \"mfg_agent_bricks_demo_unstructured_data\")\n",
    "\n",
    "UC_CATALOG = dbutils.widgets.get(\"uc_catalog\")\n",
    "UC_SCHEMA = dbutils.widgets.get(\"uc_schema\")\n",
    "UC_VOLUME = dbutils.widgets.get(\"uc_volume\")"
   ]
  },
  {
   "cell_type": "markdown",
   "metadata": {
    "application/vnd.databricks.v1+cell": {
     "cellMetadata": {},
     "inputWidgets": {},
     "nuid": "a32c1610-e74f-479e-8a99-0c069ceeda78",
     "showTitle": false,
     "tableResultSettingsMap": {},
     "title": ""
    }
   },
   "source": [
    "### Demand vs. Supply reconciliation"
   ]
  },
  {
   "cell_type": "code",
   "execution_count": 0,
   "metadata": {
    "application/vnd.databricks.v1+cell": {
     "cellMetadata": {
      "byteLimit": 2048000,
      "implicitDf": true,
      "rowLimit": 10000
     },
     "inputWidgets": {},
     "nuid": "30b4652a-e714-4828-8b87-f188714eda0e",
     "showTitle": false,
     "tableResultSettingsMap": {},
     "title": ""
    }
   },
   "outputs": [],
   "source": [
    "%sql\n",
    "-- Projected ending on hand (EOH) and stockout risk\n",
    "WITH demand AS (\n",
    "  SELECT dc_id, sku, demand_date AS dt, SUM(forecast_units) AS fc_units\n",
    "  FROM main.mfg_agent_bricks_demo.demand_forecast_daily\n",
    "  GROUP BY dc_id, sku, demand_date\n",
    "), inbound AS (\n",
    "  SELECT dc_id, sku, eta_date AS dt, SUM(inbound_units) AS inbound_units\n",
    "  FROM main.mfg_agent_bricks_demo.supply_plan_inbound\n",
    "  GROUP BY dc_id, sku, eta_date\n",
    "), inv AS (\n",
    "  SELECT dc_id, sku, as_of_date AS dt, on_hand_units, safety_stock\n",
    "  FROM main.mfg_agent_bricks_demo.inventory_positions\n",
    "), grid AS (\n",
    "  SELECT i.dc_id, i.sku, i.dt, i.on_hand_units, i.safety_stock,\n",
    "         COALESCE(d.fc_units,0) AS fc_units, COALESCE(s.inbound_units,0) AS inbound_units\n",
    "  FROM inv i\n",
    "  LEFT JOIN demand d ON d.dc_id=i.dc_id AND d.sku=i.sku AND d.dt=i.dt\n",
    "  LEFT JOIN inbound s ON s.dc_id=i.dc_id AND s.sku=i.sku AND s.dt=i.dt\n",
    "), proj AS (\n",
    "  SELECT dc_id, sku, dt,\n",
    "         SUM(inbound_units - fc_units) OVER (PARTITION BY dc_id, sku ORDER BY dt ROWS BETWEEN UNBOUNDED PRECEDING AND CURRENT ROW)\n",
    "         + FIRST_VALUE(on_hand_units) OVER (PARTITION BY dc_id, sku ORDER BY dt) AS projected_eoh,\n",
    "         safety_stock\n",
    "  FROM grid\n",
    ")\n",
    "SELECT dc_id, sku, dt AS as_of_date, projected_eoh, safety_stock,\n",
    "       CASE WHEN projected_eoh < safety_stock THEN TRUE ELSE FALSE END AS at_risk\n",
    "FROM proj\n",
    "QUALIFY ROW_NUMBER() OVER (PARTITION BY dc_id, sku ORDER BY as_of_date DESC)=1\n",
    "ORDER BY projected_eoh ASC, dc_id, sku;\n"
   ]
  },
  {
   "cell_type": "markdown",
   "metadata": {
    "application/vnd.databricks.v1+cell": {
     "cellMetadata": {},
     "inputWidgets": {},
     "nuid": "e08ba7ad-e0fb-4cfe-a97b-8bc5062eb167",
     "showTitle": false,
     "tableResultSettingsMap": {},
     "title": ""
    }
   },
   "source": [
    "### mfg_agent_bricks_demo revenue and margin across suppliers, distributors, timeframe"
   ]
  },
  {
   "cell_type": "code",
   "execution_count": 0,
   "metadata": {
    "application/vnd.databricks.v1+cell": {
     "cellMetadata": {
      "byteLimit": 2048000,
      "implicitDf": true,
      "rowLimit": 10000
     },
     "inputWidgets": {},
     "nuid": "dd95cabc-12b5-4c1e-90ec-04b43507dce4",
     "showTitle": false,
     "tableResultSettingsMap": {},
     "title": ""
    }
   },
   "outputs": [],
   "source": [
    "%sql\n",
    "WITH so AS (\n",
    "  SELECT date_trunc('month', order_date) AS month, sku, distributor_id, region,\n",
    "         SUM(units) AS units, SUM(units*unit_price) AS revenue\n",
    "  FROM main.mfg_agent_bricks_demo.sales_orders\n",
    "  GROUP BY 1, 2, 3, 4\n",
    "),\n",
    "cogs AS (\n",
    "  SELECT sku, MAX_BY(unit_cogs, effective_date) AS unit_cogs\n",
    "  FROM main.mfg_agent_bricks_demo.cogs_reference\n",
    "  GROUP BY sku\n",
    "),\n",
    "supply_link AS (\n",
    "  -- demo heuristic: dominant inbound supplier per SKU\n",
    "  SELECT sku, supplier_id\n",
    "  FROM (\n",
    "    SELECT sku, supplier_id, ROW_NUMBER() OVER (PARTITION BY sku ORDER BY COUNT(*) DESC) AS r\n",
    "    FROM main.mfg_agent_bricks_demo.supply_plan_inbound\n",
    "    GROUP BY sku, supplier_id\n",
    "  ) WHERE r=1\n",
    ")\n",
    "SELECT so.month, so.sku, sl.supplier_id, so.distributor_id, so.region,\n",
    "       so.revenue,\n",
    "       so.units * c.unit_cogs AS cogs,\n",
    "       so.revenue - (so.units * c.unit_cogs) AS margin,\n",
    "       CASE WHEN so.revenue>0 THEN (so.revenue - so.units*c.unit_cogs)/so.revenue ELSE NULL END AS margin_pct\n",
    "FROM so\n",
    "JOIN cogs c USING (sku)\n",
    "LEFT JOIN supply_link sl USING (sku)\n",
    "WHERE\n",
    "  (COALESCE(:sku, '') = '' OR so.sku = :sku)\n",
    "  AND (COALESCE(:region, '') = '' OR so.region = :region)\n",
    "ORDER BY so.month, so.sku, so.distributor_id, so.region;\n"
   ]
  },
  {
   "cell_type": "markdown",
   "metadata": {
    "application/vnd.databricks.v1+cell": {
     "cellMetadata": {},
     "inputWidgets": {},
     "nuid": "3879e946-bdc6-4f1f-ba92-cd1d50738bd0",
     "showTitle": false,
     "tableResultSettingsMap": {},
     "title": ""
    }
   },
   "source": [
    "### Supplier SLA snapshot"
   ]
  },
  {
   "cell_type": "code",
   "execution_count": 0,
   "metadata": {
    "application/vnd.databricks.v1+cell": {
     "cellMetadata": {
      "byteLimit": 2048000,
      "implicitDf": true,
      "rowLimit": 10000
     },
     "inputWidgets": {},
     "nuid": "fa88bc80-4877-47f7-b451-b11daca73f35",
     "showTitle": false,
     "tableResultSettingsMap": {},
     "title": ""
    }
   },
   "outputs": [],
   "source": [
    "%sql\n",
    "-- Supplier SLA snapshot for narrative responses\n",
    "SELECT s.supplier_id, s.supplier_name, d.title, d.format, d.effective_date, d.expiry_date, d.text\n",
    "FROM main.mfg_agent_bricks_demo.suppliers s\n",
    "JOIN main.mfg_agent_bricks_demo.contract_texts d\n",
    "  ON d.entity_type='supplier' AND d.entity_id = s.supplier_id\n",
    "ORDER BY s.supplier_id;\n"
   ]
  },
  {
   "cell_type": "markdown",
   "metadata": {
    "application/vnd.databricks.v1+cell": {
     "cellMetadata": {},
     "inputWidgets": {},
     "nuid": "5982d1a3-8875-4815-9d1d-a3d63ae6da2e",
     "showTitle": false,
     "tableResultSettingsMap": {},
     "title": ""
    }
   },
   "source": [
    "### Distributor terms snapshot"
   ]
  },
  {
   "cell_type": "code",
   "execution_count": 0,
   "metadata": {
    "application/vnd.databricks.v1+cell": {
     "cellMetadata": {
      "byteLimit": 2048000,
      "implicitDf": true,
      "rowLimit": 10000
     },
     "inputWidgets": {},
     "nuid": "bee8db9a-2e7f-4eea-87b3-15d0eb38559c",
     "showTitle": false,
     "tableResultSettingsMap": {},
     "title": ""
    }
   },
   "outputs": [],
   "source": [
    "%sql \n",
    "-- Distributor terms snapshot\n",
    "SELECT dist.distributor_id, dist.distributor_name, d.title, d.format, d.effective_date, d.expiry_date, d.text\n",
    "FROM main.mfg_agent_bricks_demo.distributors dist\n",
    "JOIN main.mfg_agent_bricks_demo.contract_texts d\n",
    "  ON d.entity_type='distributor' AND d.entity_id = dist.distributor_id\n",
    "ORDER BY dist.distributor_id;"
   ]
  },
  {
   "cell_type": "markdown",
   "metadata": {
    "application/vnd.databricks.v1+cell": {
     "cellMetadata": {},
     "inputWidgets": {},
     "nuid": "20195722-1ff1-4166-a6a4-64178f546c35",
     "showTitle": false,
     "tableResultSettingsMap": {},
     "title": ""
    }
   },
   "source": [
    "### Finance queries"
   ]
  },
  {
   "cell_type": "markdown",
   "metadata": {
    "application/vnd.databricks.v1+cell": {
     "cellMetadata": {},
     "inputWidgets": {},
     "nuid": "051fda8b-f7c7-468c-a91e-7c831561574a",
     "showTitle": false,
     "tableResultSettingsMap": {},
     "title": ""
    }
   },
   "source": [
    "What are monthly units and revenue by SKU and distributor"
   ]
  },
  {
   "cell_type": "code",
   "execution_count": 0,
   "metadata": {
    "application/vnd.databricks.v1+cell": {
     "cellMetadata": {
      "byteLimit": 2048000,
      "implicitDf": true,
      "rowLimit": 10000
     },
     "inputWidgets": {},
     "nuid": "4bca7270-67b0-4e51-8c66-aac67ae47871",
     "showTitle": false,
     "tableResultSettingsMap": {},
     "title": ""
    }
   },
   "outputs": [],
   "source": [
    "%sql\n",
    "SELECT\n",
    "  date_trunc('month', order_date) AS month,\n",
    "  sku,\n",
    "  distributor_id,\n",
    "  SUM(units) AS units,\n",
    "  SUM(units * unit_price) AS revenue\n",
    "FROM main.mfg_agent_bricks_demo.sales_orders\n",
    "GROUP BY date_trunc('month', order_date), sku, distributor_id\n",
    "ORDER BY month, sku, distributor_id;"
   ]
  }
 ],
 "metadata": {
  "application/vnd.databricks.v1+notebook": {
   "computePreferences": {
    "hardware": {
     "accelerator": null,
     "gpuPoolId": null,
     "memory": null
    }
   },
   "dashboards": [],
   "environmentMetadata": {
    "base_environment": "",
    "environment_version": "3"
   },
   "inputWidgetPreferences": null,
   "language": "python",
   "notebookMetadata": {
    "mostRecentlyExecutedCommandWithImplicitDF": {
     "commandId": 7991452813707995,
     "dataframes": [
      "_sqldf"
     ]
    },
    "pythonIndentUnit": 2
   },
   "notebookName": "genie-sql-queries",
   "widgets": {
    "region": {
     "currentValue": "",
     "nuid": "1dbc4351-0221-401c-a114-0a0ed1eafe45",
     "typedWidgetInfo": {
      "autoCreated": true,
      "defaultValue": "",
      "label": null,
      "name": "region",
      "options": {
       "widgetDisplayType": "Text",
       "validationRegex": null
      },
      "parameterDataType": "String"
     },
     "widgetInfo": {
      "widgetType": "text",
      "defaultValue": "",
      "label": null,
      "name": "region",
      "options": {
       "widgetType": "text",
       "autoCreated": true,
       "validationRegex": null
      }
     }
    },
    "sku": {
     "currentValue": "",
     "nuid": "15ecb34a-c594-404a-8f30-caa53f77ca94",
     "typedWidgetInfo": {
      "autoCreated": true,
      "defaultValue": "",
      "label": null,
      "name": "sku",
      "options": {
       "widgetDisplayType": "Text",
       "validationRegex": null
      },
      "parameterDataType": "String"
     },
     "widgetInfo": {
      "widgetType": "text",
      "defaultValue": "",
      "label": null,
      "name": "sku",
      "options": {
       "widgetType": "text",
       "autoCreated": true,
       "validationRegex": null
      }
     }
    }
   }
  },
  "language_info": {
   "name": "python"
  }
 },
 "nbformat": 4,
 "nbformat_minor": 0
}
