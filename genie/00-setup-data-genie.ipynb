{
 "cells": [
  {
   "cell_type": "code",
   "execution_count": 0,
   "metadata": {
    "application/vnd.databricks.v1+cell": {
     "cellMetadata": {
      "byteLimit": 2048000,
      "rowLimit": 10000
     },
     "inputWidgets": {},
     "nuid": "b7d0f14d-8ed6-47ba-9bc2-7a0515b57899",
     "showTitle": false,
     "tableResultSettingsMap": {},
     "title": ""
    }
   },
   "outputs": [],
   "source": [
    "dbutils.widgets.text(\"uc_catalog\", \"main\")\n",
    "dbutils.widgets.text(\"uc_schema\", \"mfg_agent_bricks_demo\")\n",
    "dbutils.widgets.text(\"uc_volume\", \"finance_unstructured_data\")\n",
    "\n",
    "UC_CATALOG = dbutils.widgets.get(\"uc_catalog\")\n",
    "UC_SCHEMA = dbutils.widgets.get(\"uc_schema\")\n",
    "UC_VOLUME = dbutils.widgets.get(\"uc_volume\")"
   ]
  },
  {
   "cell_type": "code",
   "execution_count": 0,
   "metadata": {
    "application/vnd.databricks.v1+cell": {
     "cellMetadata": {
      "byteLimit": 2048000,
      "rowLimit": 10000
     },
     "inputWidgets": {},
     "nuid": "166492cf-5a1b-4378-be57-22d3b641cee4",
     "showTitle": false,
     "tableResultSettingsMap": {},
     "title": ""
    }
   },
   "outputs": [],
   "source": [
    "spark.sql(f\"CREATE SCHEMA IF NOT EXISTS {UC_CATALOG}.{UC_SCHEMA}\")\n",
    "spark.sql(f\"CREATE VOLUME IF NOT EXISTS {UC_CATALOG}.{UC_SCHEMA}.{UC_VOLUME}\")\n",
    "spark.sql(f\"USE CATALOG {UC_CATALOG}\")\n",
    "spark.sql(f\"USE SCHEMA {UC_SCHEMA}\")"
   ]
  },
  {
   "cell_type": "markdown",
   "metadata": {
    "application/vnd.databricks.v1+cell": {
     "cellMetadata": {},
     "inputWidgets": {},
     "nuid": "feae2dfe-b811-457f-92df-a9f39a1417ec",
     "showTitle": false,
     "tableResultSettingsMap": {},
     "title": ""
    }
   },
   "source": [
    "### Copy Finance data into new volume"
   ]
  },
  {
   "cell_type": "code",
   "execution_count": 0,
   "metadata": {
    "application/vnd.databricks.v1+cell": {
     "cellMetadata": {
      "byteLimit": 2048000,
      "rowLimit": 10000
     },
     "inputWidgets": {},
     "nuid": "e31bdf65-988e-4774-90dd-695e58a7120e",
     "showTitle": false,
     "tableResultSettingsMap": {},
     "title": ""
    }
   },
   "outputs": [],
   "source": [
    "# src_base = \"/Volumes/main/fins_agent_bricks_demo/magnificent_seven_unstructured_data\"\n",
    "# dst_base = f\"/Volumes/{UC_CATALOG}/{UC_SCHEMA}/{UC_VOLUME}\"\n",
    "\n",
    "# folders = [\"10k\", \"10q\", \"annual_reports\", \"call_transcripts\", \"earning_releases\"]\n",
    "# # Copy each folder recursively\n",
    "# for f in folders:\n",
    "#     dbutils.fs.cp(f\"{src_base}/{f}\", f\"{dst_base}/{f}\", recurse=True)"
   ]
  },
  {
   "cell_type": "markdown",
   "metadata": {
    "application/vnd.databricks.v1+cell": {
     "cellMetadata": {},
     "inputWidgets": {},
     "nuid": "f7ae1a2e-b2d4-4669-97b9-e37e25f02ce2",
     "showTitle": false,
     "tableResultSettingsMap": {},
     "title": ""
    }
   },
   "source": [
    "### Build synthetic UC Tables"
   ]
  },
  {
   "cell_type": "code",
   "execution_count": 0,
   "metadata": {
    "application/vnd.databricks.v1+cell": {
     "cellMetadata": {
      "byteLimit": 2048000,
      "rowLimit": 10000
     },
     "inputWidgets": {},
     "nuid": "6c450640-4248-4e94-8259-2718f43b5e5f",
     "showTitle": false,
     "tableResultSettingsMap": {},
     "title": ""
    }
   },
   "outputs": [],
   "source": [
    "%pip install Faker"
   ]
  },
  {
   "cell_type": "code",
   "execution_count": 0,
   "metadata": {
    "application/vnd.databricks.v1+cell": {
     "cellMetadata": {
      "byteLimit": 2048000,
      "rowLimit": 10000
     },
     "inputWidgets": {},
     "nuid": "9bcb1eaf-09f4-4294-85df-494f7ae2b91f",
     "showTitle": false,
     "tableResultSettingsMap": {},
     "title": ""
    }
   },
   "outputs": [],
   "source": [
    "# Run in a Databricks Python notebook\n",
    "# %pip install Faker\n",
    "\n",
    "from faker import Faker\n",
    "from datetime import date, timedelta\n",
    "import random\n",
    "\n",
    "fake = Faker(); random.seed(42)\n",
    "\n",
    "# Canonical dimensions\n",
    "skus = [\"ACC-GPU\", \"SOC-CPU\", \"MCU-EDGE\"]\n",
    "families = {\"ACC-GPU\":\"Accelerator\",\"SOC-CPU\":\"Compute\",\"MCU-EDGE\":\"Embedded\"}\n",
    "regions = [\"NA\",\"EMEA\",\"APJ\"]\n",
    "dcs = [\"RNO\",\"DFW\",\"AMS\"]\n",
    "suppliers = [(\"SUP1\",\"Atlas Substrates\"),(\"SUP2\",\"Beta Foundry\"),(\"SUP3\",\"Cobalt Assembly\"),(\"SUP4\",\"Delta Memory\")]\n",
    "dists = [(\"D1\",\"GlobalTech NA\",\"NA\",\"dist\"),(\"D2\",\"EuroParts EMEA\",\"EMEA\",\"dist\"),(\"D3\",\"AsiaLogic APJ\",\"APJ\",\"dist\")]\n",
    "\n",
    "start = date(2025,1,1)\n",
    "days_since = (date.today() - start).days\n",
    "days = [start + timedelta(d) for d in range(days_since)]\n",
    "\n",
    "# Supply Chain: suppliers\n",
    "spark.createDataFrame([(sid,name,random.choice([\"1\",\"2\"]), random.choice([\"US\",\"DE\",\"TW\",\"MX\"])) for sid,name in suppliers],\n",
    "                      \"supplier_id string, supplier_name string, tier string, country string\") \\\n",
    "     .write.mode(\"overwrite\").saveAsTable(\"suppliers\")\n",
    "\n",
    "# Supply Chain: inventory positions\n",
    "inv = [(dc, sku, d, random.randint(120,420), 150) for dc in dcs for sku in skus for d in days]\n",
    "spark.createDataFrame(inv,\"dc_id string, sku string, as_of_date date, on_hand_units int, safety_stock int\") \\\n",
    "     .write.mode(\"overwrite\").saveAsTable(\"inventory_positions\")\n",
    "\n",
    "# Supply Chain: demand forecast daily\n",
    "fc = [(sku, random.choice(regions), random.choice(dcs), d, random.randint(20,120)) for sku in skus for d in days]\n",
    "spark.createDataFrame(fc,\"sku string, region string, dc_id string, demand_date date, forecast_units int\") \\\n",
    "     .write.mode(\"overwrite\").saveAsTable(\"demand_forecast_daily\")\n",
    "\n",
    "# Supply Chain: supply plan inbound\n",
    "sp = []\n",
    "for d in days[::3]:\n",
    "    for sku in skus:\n",
    "        sid = random.choice(suppliers)[0]\n",
    "        dc = random.choice(dcs)\n",
    "        units = random.randint(50,220)\n",
    "        sp.append((sku, sid, f\"PO_{sid}_{sku}_{d}\", dc, d, d + timedelta(random.randint(5,18)), units))\n",
    "spark.createDataFrame(sp,\"sku string, supplier_id string, po_id string, dc_id string, ship_date date, eta_date date, inbound_units int\") \\\n",
    "     .write.mode(\"overwrite\").saveAsTable(\"supply_plan_inbound\")\n",
    "\n",
    "# Finance: product master\n",
    "spark.createDataFrame([(sku, families[sku], date(2023,10,1) if sku==\"ACC-GPU\" else date(2020,6,1) if sku==\"SOC-CPU\" else date(2024,9,1), \n",
    "                        \"premium\" if sku in [\"ACC-GPU\",\"MCU-EDGE\"] else \"standard\")\n",
    "                       for sku in skus],\n",
    "                      \"sku string, product_family string, launch_date date, price_tier string\") \\\n",
    "     .write.mode(\"overwrite\").saveAsTable(\"product_master\")\n",
    "\n",
    "# Finance: distributors\n",
    "spark.createDataFrame(dists,\"distributor_id string, distributor_name string, region string, channel string\") \\\n",
    "     .write.mode(\"overwrite\").saveAsTable(\"distributors\")\n",
    "\n",
    "# Finance: COGS reference\n",
    "cogs = [(sku, start, float(random.randint(8000,22000))) for sku in skus]\n",
    "spark.createDataFrame(cogs,\"sku string, effective_date date, unit_cogs double\") \\\n",
    "     .write.mode(\"overwrite\").saveAsTable(\"cogs_reference\")\n",
    "\n",
    "# Finance: sales orders\n",
    "so = []\n",
    "for d in days:\n",
    "    for sku in skus:\n",
    "        units = random.randint(0,30)\n",
    "        if units:\n",
    "            dist = random.choice(dists)[0]\n",
    "            price = random.randint(15000,35000)\n",
    "            so.append((f\"SO_{sku}_{d}\", d, sku, dist, random.choice(regions), units, float(price)))\n",
    "spark.createDataFrame(so,\"order_id string, order_date date, sku string, distributor_id string, region string, units int, unit_price double\") \\\n",
    "     .write.mode(\"overwrite\").saveAsTable(\"sales_orders\")\n"
   ]
  },
  {
   "cell_type": "markdown",
   "metadata": {
    "application/vnd.databricks.v1+cell": {
     "cellMetadata": {},
     "inputWidgets": {},
     "nuid": "307982d4-ef4c-42c2-944c-8c2af288db4d",
     "showTitle": false,
     "tableResultSettingsMap": {},
     "title": ""
    }
   },
   "source": [
    "### Create Contract PDF-like Delta tables"
   ]
  },
  {
   "cell_type": "code",
   "execution_count": 0,
   "metadata": {
    "application/vnd.databricks.v1+cell": {
     "cellMetadata": {
      "byteLimit": 2048000,
      "rowLimit": 10000
     },
     "inputWidgets": {},
     "nuid": "1a377372-71f0-4dc4-8a1d-b3efe8c8e2af",
     "showTitle": false,
     "tableResultSettingsMap": {},
     "title": ""
    }
   },
   "outputs": [],
   "source": [
    "# Create a table of narrative text that mimics supplier and distributor agreements\n",
    "docs = []\n",
    "def rand_bool(p=0.7): return random.random() < p\n",
    "\n",
    "for sid,_ in suppliers:\n",
    "    incoterms = random.choice([\"FOB\",\"CIF\",\"DAP\",\"EXW\"])\n",
    "    lead = random.randint(7,35)\n",
    "    sla = round(random.uniform(0.90,0.98),3)\n",
    "    expedite = rand_bool()\n",
    "    exp_fee = round(random.uniform(0.02,0.08),3)\n",
    "    penalty = round(random.uniform(0.01,0.05),3)\n",
    "    moq = random.choice([10,25,50,100])\n",
    "    pay = random.choice([\"Net 30\",\"Net 45\",\"Net 60\"])\n",
    "    law = random.choice([\"Delaware\",\"California\",\"New York\",\"Texas\"])\n",
    "    title = f\"Supplier Master Supply Agreement – {sid}\"\n",
    "    body_md = f\"\"\"\n",
    "# {title}\n",
    "Effective: 2025-01-01  |  Expires: 2026-12-31\n",
    "\n",
    "- Incoterms: {incoterms}\n",
    "- Standard Lead Time (days): {lead}\n",
    "- On-time Delivery SLA: {int(sla*100)}%\n",
    "- Expedite Allowed: {expedite} (Fee: {int(exp_fee*100)}%)\n",
    "- Late Delivery Penalty: {int(penalty*100)}%\n",
    "- Minimum Order Quantity (MOQ): {moq}\n",
    "- Payment Terms: {pay}\n",
    "- Governing Law: {law}\n",
    "\n",
    "Service Levels apply to all Purchase Orders; deviations require written approval and may incur fees or penalties as specified.\n",
    "\"\"\"\n",
    "    docs.append((f\"DOC_{sid}_MSA\", \"supplier\", sid, \"MSA\", title, body_md, \"markdown\", date(2025,1,1), date(2026,12,31)))\n",
    "\n",
    "for did,_,_,_ in dists:\n",
    "    base_disc = round(random.uniform(0.05,0.18),3)\n",
    "    rebate = round(random.uniform(0.01,0.05),3)\n",
    "    mdf = round(random.uniform(0.00,0.03),3)\n",
    "    returns = random.choice([15,30,45])\n",
    "    min_commit = random.choice([50,100,200,400])\n",
    "    special = random.choice([\"Quarterly promo on ACC-GPU in NA\",\"No special terms\",\"Extended RMA support on MCU-EDGE\"])\n",
    "    title = f\"Distributor Agreement – {did}\"\n",
    "    body_html = f\"\"\"\n",
    "<h1>{title}</h1>\n",
    "<p>Effective: 2025-01-01 | Expires: 2026-12-31</p>\n",
    "<ul>\n",
    "  <li>Base Discount: {int(base_disc*100)}%</li>\n",
    "  <li>Rebate: {int(rebate*100)}%</li>\n",
    "  <li>MDF: {int(mdf*100)}%</li>\n",
    "  <li>Return Window: {returns} days</li>\n",
    "  <li>Minimum Quarterly Commit: {min_commit} units</li>\n",
    "  <li>Special Terms: {special}</li>\n",
    "</ul>\n",
    "<p>Discounts subject to quarterly true-up and compliance with program guidelines.</p>\n",
    "\"\"\"\n",
    "    docs.append((f\"DOC_{did}_DA\", \"distributor\", did, \"DA\", title, body_html, \"html\", date(2025,1,1), date(2026,12,31)))\n",
    "\n",
    "spark.createDataFrame(docs, \"\"\"\n",
    "  doc_id string, entity_type string, entity_id string, doc_type string,\n",
    "  title string, text string, format string, effective_date date, expiry_date date\n",
    "\"\"\").write.mode(\"overwrite\").saveAsTable(\"contract_texts\")\n"
   ]
  },
  {
   "cell_type": "markdown",
   "metadata": {
    "application/vnd.databricks.v1+cell": {
     "cellMetadata": {},
     "inputWidgets": {},
     "nuid": "8bcc3040-3173-47a9-9549-3b3eafcf9e45",
     "showTitle": false,
     "tableResultSettingsMap": {},
     "title": ""
    }
   },
   "source": [
    "### Update column-level and table-metadata"
   ]
  },
  {
   "cell_type": "code",
   "execution_count": 0,
   "metadata": {
    "application/vnd.databricks.v1+cell": {
     "cellMetadata": {
      "byteLimit": 2048000,
      "rowLimit": 10000
     },
     "inputWidgets": {},
     "nuid": "9fc1070f-cca1-4e08-9d1f-356cd12a4d87",
     "showTitle": false,
     "tableResultSettingsMap": {},
     "title": ""
    }
   },
   "outputs": [],
   "source": [
    "def _sql_quote(s: str) -> str:\n",
    "    # Escape single quotes for SQL literals\n",
    "    return (s or \"\").replace(\"'\", \"''\")\n",
    "\n",
    "def set_table_and_column_comments(table_name: str, table_comment: str, column_comments: dict):\n",
    "    \"\"\"\n",
    "    table_name: optionally fully-qualified UC name, e.g., catalog.schema.table\n",
    "    table_comment: table-level description\n",
    "    column_comments: dict of {column_name: description}\n",
    "    \"\"\"\n",
    "    # Table comment\n",
    "    spark.sql(f\"COMMENT ON TABLE {table_name} IS '{_sql_quote(table_comment)}'\")\n",
    "    # Column comments (use COMMENT ON COLUMN for broad compatibility)\n",
    "    for col, comment in column_comments.items():\n",
    "        spark.sql(f\"COMMENT ON COLUMN {table_name}.`{col}` IS '{_sql_quote(str(comment))}'\")\n"
   ]
  },
  {
   "cell_type": "code",
   "execution_count": 0,
   "metadata": {
    "application/vnd.databricks.v1+cell": {
     "cellMetadata": {
      "byteLimit": 2048000,
      "rowLimit": 10000
     },
     "inputWidgets": {},
     "nuid": "0507bb16-ef1d-44ab-9259-3f6140db06f6",
     "showTitle": false,
     "tableResultSettingsMap": {},
     "title": ""
    }
   },
   "outputs": [],
   "source": [
    "# suppliers\n",
    "set_table_and_column_comments(\n",
    "    \"suppliers\",\n",
    "    \"Supplier master data for semiconductor supply chain, including tier and country of origin.\",\n",
    "    {\n",
    "        \"supplier_id\": \"Stable supplier identifier used across supply, finance, and contracts.\",\n",
    "        \"supplier_name\": \"Human-readable supplier legal or trade name.\",\n",
    "        \"tier\": \"Supplier tier classification for risk and sourcing (e.g., 1=primary, 2=secondary).\",\n",
    "        \"country\": \"Primary country associated with supply origin or contracting entity.\"\n",
    "    }\n",
    ")\n",
    "\n",
    "# inventory_positions\n",
    "set_table_and_column_comments(\n",
    "    \"inventory_positions\",\n",
    "    \"Daily inventory snapshots by distribution center and SKU with safety stock targets.\",\n",
    "    {\n",
    "        \"dc_id\": \"Distribution center identifier where stock is held.\",\n",
    "        \"sku\": \"Stock-keeping unit code for the semiconductor product.\",\n",
    "        \"as_of_date\": \"Inventory snapshot date at end of business.\",\n",
    "        \"on_hand_units\": \"Physical on-hand inventory units available at the DC on the snapshot date.\",\n",
    "        \"safety_stock\": \"Required minimum inventory level to buffer demand and supply variability.\"\n",
    "    }\n",
    ")\n",
    "\n",
    "# demand_forecast_daily\n",
    "set_table_and_column_comments(\n",
    "    \"demand_forecast_daily\",\n",
    "    \"Daily demand forecast by SKU, region, and DC used for reconciliation and stockout risk.\",\n",
    "    {\n",
    "        \"sku\": \"Stock-keeping unit code for the semiconductor product.\",\n",
    "        \"region\": \"Sales or planning region aligned to commercial reporting (e.g., NA, EMEA, APJ).\",\n",
    "        \"dc_id\": \"Distribution center identifier associated with forecast fulfillment.\",\n",
    "        \"demand_date\": \"Planned demand date at daily granularity.\",\n",
    "        \"forecast_units\": \"Forecasted units for the given SKU, region, DC, and date.\"\n",
    "    }\n",
    ")\n",
    "\n",
    "# supply_plan_inbound\n",
    "set_table_and_column_comments(\n",
    "    \"supply_plan_inbound\",\n",
    "    \"Planned inbound supply by PO, ETA, and destination DC for reconciliation against demand.\",\n",
    "    {\n",
    "        \"sku\": \"Stock-keeping unit code for the semiconductor product.\",\n",
    "        \"supplier_id\": \"Identifier of the supplier shipping the inbound units.\",\n",
    "        \"po_id\": \"Purchase order identifier for the inbound supply line.\",\n",
    "        \"dc_id\": \"Destination distribution center for the inbound shipment.\",\n",
    "        \"ship_date\": \"Date the shipment departed from the supplier or origin.\",\n",
    "        \"eta_date\": \"Estimated date the shipment will arrive at the destination DC.\",\n",
    "        \"inbound_units\": \"Units planned to arrive on the ETA for the specified SKU and DC.\"\n",
    "    }\n",
    ")\n",
    "\n",
    "# product_master\n",
    "set_table_and_column_comments(\n",
    "    \"product_master\",\n",
    "    \"Product dimension with family, launch date, and price tier for analytics and reporting.\",\n",
    "    {\n",
    "        \"sku\": \"Stock-keeping unit code for the semiconductor product.\",\n",
    "        \"product_family\": \"Product family or series categorization (e.g., Accelerator, Compute, Embedded).\",\n",
    "        \"launch_date\": \"First commercial availability date for the SKU.\",\n",
    "        \"price_tier\": \"Relative pricing tier classification (e.g., premium, standard).\"\n",
    "    }\n",
    ")\n",
    "\n",
    "# distributors\n",
    "set_table_and_column_comments(\n",
    "    \"distributors\",\n",
    "    \"Distributor dimension including region and channel for sales order attribution.\",\n",
    "    {\n",
    "        \"distributor_id\": \"Stable distributor identifier used in sales orders and agreements.\",\n",
    "        \"distributor_name\": \"Human-readable distributor or channel partner name.\",\n",
    "        \"region\": \"Primary region of operation for the distributor.\",\n",
    "        \"channel\": \"Sales channel classification, typically dist for distributor.\"\n",
    "    }\n",
    ")\n",
    "\n",
    "# cogs_reference\n",
    "set_table_and_column_comments(\n",
    "    \"cogs_reference\",\n",
    "    \"Reference table for unit COGS by SKU and effective date used to compute margin.\",\n",
    "    {\n",
    "        \"sku\": \"Stock-keeping unit code for the semiconductor product.\",\n",
    "        \"effective_date\": \"Date from which the referenced unit COGS becomes applicable.\",\n",
    "        \"unit_cogs\": \"Per-unit cost of goods sold for the SKU effective from the given date.\"\n",
    "    }\n",
    ")\n",
    "\n",
    "# sales_orders\n",
    "set_table_and_column_comments(\n",
    "    \"sales_orders\",\n",
    "    \"Line-level sales orders with units and realized unit price for revenue calculations.\",\n",
    "    {\n",
    "        \"order_id\": \"Sales order identifier unique at the line or header level.\",\n",
    "        \"order_date\": \"Booking or fulfillment date associated with the sales order line.\",\n",
    "        \"sku\": \"Stock-keeping unit code for the product sold.\",\n",
    "        \"distributor_id\": \"Identifier of the distributor or channel partner for the order.\",\n",
    "        \"region\": \"Commercial region associated with the order’s destination or customer.\",\n",
    "        \"units\": \"Units sold on the order line.\",\n",
    "        \"unit_price\": \"Realized price per unit for the order line’s SKU.\"\n",
    "    }\n",
    ")\n",
    "\n",
    "# contract_texts\n",
    "set_table_and_column_comments(\n",
    "    \"contract_texts\",\n",
    "    \"Narrative agreement content (Markdown/HTML) mimicking supplier and distributor terms.\",\n",
    "    {\n",
    "        \"doc_id\": \"Unique identifier for the agreement-like document.\",\n",
    "        \"entity_type\": \"Type of entity the document references, e.g., supplier or distributor.\",\n",
    "        \"entity_id\": \"Identifier of the supplier or distributor linked to this document.\",\n",
    "        \"doc_type\": \"Agreement subtype, e.g., MSA or DA.\",\n",
    "        \"title\": \"Document title for display in apps or search results.\",\n",
    "        \"text\": \"Raw document content in Markdown or HTML format.\",\n",
    "        \"format\": \"Serialization format of text, e.g., markdown or html.\",\n",
    "        \"effective_date\": \"Date on which the agreement terms become effective.\",\n",
    "        \"expiry_date\": \"Date on which the agreement terms expire absent renewal.\"\n",
    "    }\n",
    ")\n"
   ]
  }
 ],
 "metadata": {
  "application/vnd.databricks.v1+notebook": {
   "computePreferences": {
    "hardware": {
     "accelerator": null,
     "gpuPoolId": null,
     "memory": null
    }
   },
   "dashboards": [],
   "environmentMetadata": {
    "base_environment": "",
    "environment_version": "3"
   },
   "inputWidgetPreferences": null,
   "language": "python",
   "notebookMetadata": {
    "pythonIndentUnit": 2
   },
   "notebookName": "00-setup-data-genie",
   "widgets": {
    "uc_catalog": {
     "currentValue": "main",
     "nuid": "c1ba598c-14c0-466f-9fcf-998883e72e54",
     "typedWidgetInfo": {
      "autoCreated": false,
      "defaultValue": "main",
      "label": null,
      "name": "uc_catalog",
      "options": {
       "widgetDisplayType": "Text",
       "validationRegex": null
      },
      "parameterDataType": "String"
     },
     "widgetInfo": {
      "widgetType": "text",
      "defaultValue": "main",
      "label": null,
      "name": "uc_catalog",
      "options": {
       "widgetType": "text",
       "autoCreated": null,
       "validationRegex": null
      }
     }
    },
    "uc_schema": {
     "currentValue": "mfg_agent_bricks_demo",
     "nuid": "0b2a8795-c534-4dda-ae70-b145714a65e0",
     "typedWidgetInfo": {
      "autoCreated": false,
      "defaultValue": "mfg_agent_bricks_demo",
      "label": null,
      "name": "uc_schema",
      "options": {
       "widgetDisplayType": "Text",
       "validationRegex": null
      },
      "parameterDataType": "String"
     },
     "widgetInfo": {
      "widgetType": "text",
      "defaultValue": "mfg_agent_bricks_demo",
      "label": null,
      "name": "uc_schema",
      "options": {
       "widgetType": "text",
       "autoCreated": null,
       "validationRegex": null
      }
     }
    },
    "uc_volume": {
     "currentValue": "finance_unstructured_data",
     "nuid": "7fb08a9f-4954-4bc8-9657-6d23b0eeb1fa",
     "typedWidgetInfo": {
      "autoCreated": false,
      "defaultValue": "finance_unstructured_data",
      "label": null,
      "name": "uc_volume",
      "options": {
       "widgetDisplayType": "Text",
       "validationRegex": null
      },
      "parameterDataType": "String"
     },
     "widgetInfo": {
      "widgetType": "text",
      "defaultValue": "finance_unstructured_data",
      "label": null,
      "name": "uc_volume",
      "options": {
       "widgetType": "text",
       "autoCreated": null,
       "validationRegex": null
      }
     }
    }
   }
  },
  "language_info": {
   "name": "python"
  }
 },
 "nbformat": 4,
 "nbformat_minor": 0
}
