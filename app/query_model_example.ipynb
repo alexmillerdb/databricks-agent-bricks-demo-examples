{
 "cells": [
  {
   "cell_type": "code",
   "execution_count": 0,
   "metadata": {
    "application/vnd.databricks.v1+cell": {
     "cellMetadata": {
      "byteLimit": 2048000,
      "rowLimit": 10000
     },
     "inputWidgets": {},
     "nuid": "50cced3b-1c1d-48f6-8240-007dd221eeca",
     "showTitle": false,
     "tableResultSettingsMap": {},
     "title": ""
    }
   },
   "outputs": [],
   "source": [
    "%pip install mlflow>3.1 openai\n",
    "%restart_python"
   ]
  },
  {
   "cell_type": "markdown",
   "metadata": {
    "application/vnd.databricks.v1+cell": {
     "cellMetadata": {},
     "inputWidgets": {},
     "nuid": "c021a9b3-4c3b-400e-bb53-e90d61eda6df",
     "showTitle": false,
     "tableResultSettingsMap": {},
     "title": ""
    }
   },
   "source": [
    "### Set MLflow Experiment to log traces from app"
   ]
  },
  {
   "cell_type": "code",
   "execution_count": 0,
   "metadata": {
    "application/vnd.databricks.v1+cell": {
     "cellMetadata": {
      "byteLimit": 2048000,
      "rowLimit": 10000
     },
     "inputWidgets": {},
     "nuid": "a843c5f6-0cd6-46d9-8a74-d963fe6e8f20",
     "showTitle": false,
     "tableResultSettingsMap": {},
     "title": ""
    }
   },
   "outputs": [],
   "source": [
    "import mlflow\n",
    "\n",
    "mlflow.set_experiment(\"/Users/alex.miller@databricks.com/multi-agent-supervisor\")"
   ]
  },
  {
   "cell_type": "markdown",
   "metadata": {
    "application/vnd.databricks.v1+cell": {
     "cellMetadata": {},
     "inputWidgets": {},
     "nuid": "b665026e-2a2b-4f46-9ce4-b57a6d2d48c4",
     "showTitle": false,
     "tableResultSettingsMap": {},
     "title": ""
    }
   },
   "source": [
    "### OpenAI client example"
   ]
  },
  {
   "cell_type": "code",
   "execution_count": 0,
   "metadata": {
    "application/vnd.databricks.v1+cell": {
     "cellMetadata": {
      "byteLimit": 2048000,
      "rowLimit": 10000
     },
     "inputWidgets": {},
     "nuid": "4a0ac91b-519f-4e19-8e36-61c10bad1860",
     "showTitle": false,
     "tableResultSettingsMap": {},
     "title": ""
    }
   },
   "outputs": [],
   "source": [
    "from openai import OpenAI\n",
    "import mlflow\n",
    "import os\n",
    "\n",
    "\n",
    "mlflow.openai.autolog()\n",
    "# Alternatively in a Databricks notebook you can use this:\n",
    "DATABRICKS_TOKEN = dbutils.notebook.entry_point.getDbutils().notebook().getContext().apiToken().get()\n",
    "\n",
    "client = OpenAI(\n",
    "    api_key=DATABRICKS_TOKEN,\n",
    "    base_url=\"https://e2-demo-west.cloud.databricks.com/serving-endpoints\"\n",
    ")\n",
    "\n",
    "response = client.responses.create(\n",
    "    model=\"mas-3bfe8584-endpoint\",\n",
    "    input=[\n",
    "        {\n",
    "            \"role\": \"user\",\n",
    "            \"content\": \"What is month-over-month revenue growth by SKU?\"\n",
    "        }\n",
    "    ]\n",
    ")\n",
    "\n",
    "print(response.output[0].content[0].text)"
   ]
  },
  {
   "cell_type": "markdown",
   "metadata": {
    "application/vnd.databricks.v1+cell": {
     "cellMetadata": {},
     "inputWidgets": {},
     "nuid": "ca91de91-4150-467a-acf8-6b4a9469fca3",
     "showTitle": false,
     "tableResultSettingsMap": {},
     "title": ""
    }
   },
   "source": [
    "### Workspace client example"
   ]
  },
  {
   "cell_type": "code",
   "execution_count": 0,
   "metadata": {
    "application/vnd.databricks.v1+cell": {
     "cellMetadata": {
      "byteLimit": 2048000,
      "rowLimit": 10000
     },
     "inputWidgets": {},
     "nuid": "abfeed35-1d1f-49fb-b72c-bb6733bb70ba",
     "showTitle": false,
     "tableResultSettingsMap": {},
     "title": ""
    }
   },
   "outputs": [],
   "source": [
    "import os\n",
    "from databricks.sdk import WorkspaceClient\n",
    "# or: from databricks.sdk import WorkspaceClient; client = WorkspaceClient().serving_endpoints.get_open_ai_client()\n",
    "\n",
    "client = WorkspaceClient().serving_endpoints.get_open_ai_client()\n",
    "\n",
    "print(\"creating stream\")\n",
    "# Stream tokens from a chat model served by Databricks (example model name shown)\n",
    "stream = client.responses.create(\n",
    "    model=\"mas-3bfe8584-endpoint\",\n",
    "    input=[\n",
    "        {\"role\": \"user\", \"content\": \"What is the projected ending on hand and stockout risk?\"}\n",
    "    ],\n",
    "    stream=True  # <- streaming enabled\n",
    ")\n",
    "\n",
    "response_text = \"\"\n",
    "for chunk in stream:\n",
    "    if chunk.type in (\"response.output_text.delta\", \"response.output_item_done\"):\n",
    "      print(chunk)\n",
    "#     response_text += chunk.content  # Or chunk['content'] if chunks are dicts\n",
    "# print(response_text)"
   ]
  },
  {
   "cell_type": "markdown",
   "metadata": {
    "application/vnd.databricks.v1+cell": {
     "cellMetadata": {},
     "inputWidgets": {},
     "nuid": "6e4ca421-8019-4eac-81bf-294ccd6bd713",
     "showTitle": false,
     "tableResultSettingsMap": {},
     "title": ""
    }
   },
   "source": [
    "### ResponsesAgent Example (use this for production app deployment)"
   ]
  },
  {
   "cell_type": "code",
   "execution_count": 0,
   "metadata": {
    "application/vnd.databricks.v1+cell": {
     "cellMetadata": {
      "byteLimit": 2048000,
      "rowLimit": 10000
     },
     "inputWidgets": {},
     "nuid": "a6645f76-23a8-4ca6-9f8f-22e397947390",
     "showTitle": false,
     "tableResultSettingsMap": {},
     "title": ""
    }
   },
   "outputs": [],
   "source": [
    "import os\n",
    "from typing import Generator\n",
    "from databricks.sdk import WorkspaceClient\n",
    "import mlflow\n",
    "from mlflow.entities.span import SpanType\n",
    "from mlflow.pyfunc import ResponsesAgent\n",
    "from mlflow.types.responses import (\n",
    "    ResponsesAgentRequest,\n",
    "    ResponsesAgentResponse,\n",
    "    ResponsesAgentStreamEvent,\n",
    ")\n",
    "\n",
    "class SimpleResponsesAgent(ResponsesAgent):\n",
    "    def __init__(self, model: str):\n",
    "        self.client = WorkspaceClient().serving_endpoints.get_open_ai_client()\n",
    "        self.model = model\n",
    "\n",
    "    @mlflow.trace(span_type=SpanType.AGENT)\n",
    "    def predict_stream(\n",
    "        self, request: ResponsesAgentRequest\n",
    "    ) -> Generator[ResponsesAgentStreamEvent, None, None]:\n",
    "        for event in self.client.responses.create(\n",
    "            input=request.input, stream=True, model=self.model\n",
    "        ):\n",
    "            yield ResponsesAgentStreamEvent(**event.to_dict())\n",
    "\n",
    "    @mlflow.trace(span_type=SpanType.AGENT)\n",
    "    def predict(\n",
    "        self, request: ResponsesAgentRequest\n",
    "    ) -> ResponsesAgentResponse:\n",
    "        response = self.client.responses.create(\n",
    "            input=request.input, stream=False, model=self.model\n",
    "        )\n",
    "        # Assume the response is compatible with ResponsesAgentResponse\n",
    "        return ResponsesAgentResponse(**response.to_dict())\n"
   ]
  },
  {
   "cell_type": "code",
   "execution_count": 0,
   "metadata": {
    "application/vnd.databricks.v1+cell": {
     "cellMetadata": {
      "byteLimit": 2048000,
      "rowLimit": 10000
     },
     "inputWidgets": {},
     "nuid": "a6ab6060-fe09-4b6e-97de-a610579a8daf",
     "showTitle": false,
     "tableResultSettingsMap": {},
     "title": ""
    }
   },
   "outputs": [],
   "source": [
    "agent = SimpleResponsesAgent(\"mas-3bfe8584-endpoint\")\n",
    "request = ResponsesAgentRequest(\n",
    "    input=[\n",
    "        {\"role\": \"user\", \"content\": \"What is the projected ending on hand and stockout risk?\"}\n",
    "    ]\n",
    ")\n",
    "response = agent.predict(request)\n",
    "print(response)"
   ]
  },
  {
   "cell_type": "code",
   "execution_count": 0,
   "metadata": {
    "application/vnd.databricks.v1+cell": {
     "cellMetadata": {
      "byteLimit": 2048000,
      "rowLimit": 10000
     },
     "inputWidgets": {},
     "nuid": "84639618-35b0-49a5-b612-0d093a659044",
     "showTitle": false,
     "tableResultSettingsMap": {},
     "title": ""
    }
   },
   "outputs": [],
   "source": [
    "for event in agent.predict_stream(request):\n",
    "    print(event)"
   ]
  },
  {
   "cell_type": "markdown",
   "metadata": {
    "application/vnd.databricks.v1+cell": {
     "cellMetadata": {},
     "inputWidgets": {},
     "nuid": "d87c1c43-fe77-492d-94f2-8cb2e14b5318",
     "showTitle": false,
     "tableResultSettingsMap": {},
     "title": ""
    }
   },
   "source": [
    "### Log user feedback from app example"
   ]
  },
  {
   "cell_type": "code",
   "execution_count": 0,
   "metadata": {
    "application/vnd.databricks.v1+cell": {
     "cellMetadata": {
      "byteLimit": 2048000,
      "rowLimit": 10000
     },
     "inputWidgets": {},
     "nuid": "c2ff3770-0abd-4245-b555-371c66efa44e",
     "showTitle": false,
     "tableResultSettingsMap": {},
     "title": ""
    }
   },
   "outputs": [],
   "source": [
    "import mlflow\n",
    "from mlflow.entities.assessment import AssessmentSource, AssessmentSourceType\n",
    "\n",
    "trace_id = mlflow.get_last_active_trace_id()\n",
    "mlflow.log_feedback(\n",
    "    trace_id=trace_id,\n",
    "    name=\"user_feedback\",\n",
    "    value=True,  # or False, or a score\n",
    "    rationale=\"User found the answer helpful\",\n",
    "    source=AssessmentSource(source_type=AssessmentSourceType.HUMAN, source_id=\"user_123\"),\n",
    ")\n"
   ]
  }
 ],
 "metadata": {
  "application/vnd.databricks.v1+notebook": {
   "computePreferences": {
    "hardware": {
     "accelerator": null,
     "gpuPoolId": null,
     "memory": null
    }
   },
   "dashboards": [],
   "environmentMetadata": {
    "base_environment": "",
    "environment_version": "3"
   },
   "inputWidgetPreferences": null,
   "language": "python",
   "notebookMetadata": {
    "pythonIndentUnit": 2
   },
   "notebookName": "query_model_example",
   "widgets": {}
  },
  "language_info": {
   "name": "python"
  }
 },
 "nbformat": 4,
 "nbformat_minor": 0
}
