{
 "cells": [
  {
   "cell_type": "code",
   "execution_count": 0,
   "metadata": {
    "application/vnd.databricks.v1+cell": {
     "cellMetadata": {
      "byteLimit": 2048000,
      "rowLimit": 10000
     },
     "inputWidgets": {},
     "nuid": "95d78b88-6068-464f-98f6-9039386b5587",
     "showTitle": false,
     "tableResultSettingsMap": {},
     "title": ""
    }
   },
   "outputs": [],
   "source": [
    "dbutils.widgets.text(\"uc_catalog\", \"main\")\n",
    "dbutils.widgets.text(\"uc_schema\", \"mfg_agent_bricks_demo\")\n",
    "dbutils.widgets.text(\"uc_volume\", \"finance_unstructured_data\")\n",
    "\n",
    "UC_CATALOG = dbutils.widgets.get(\"uc_catalog\")\n",
    "UC_SCHEMA = dbutils.widgets.get(\"uc_schema\")\n",
    "UC_VOLUME = dbutils.widgets.get(\"uc_volume\")"
   ]
  },
  {
   "cell_type": "code",
   "execution_count": 0,
   "metadata": {
    "application/vnd.databricks.v1+cell": {
     "cellMetadata": {
      "byteLimit": 2048000,
      "rowLimit": 10000
     },
     "inputWidgets": {},
     "nuid": "4436fefa-67b5-4b9d-9e94-59ec17d98ec4",
     "showTitle": false,
     "tableResultSettingsMap": {},
     "title": ""
    }
   },
   "outputs": [],
   "source": [
    "spark.sql(f\"CREATE SCHEMA IF NOT EXISTS {UC_CATALOG}.{UC_SCHEMA}\")\n",
    "spark.sql(f\"CREATE VOLUME IF NOT EXISTS {UC_CATALOG}.{UC_SCHEMA}.{UC_VOLUME}\")\n",
    "spark.sql(f\"USE CATALOG {UC_CATALOG}\")\n",
    "spark.sql(f\"USE SCHEMA {UC_SCHEMA}\")"
   ]
  },
  {
   "cell_type": "code",
   "execution_count": 0,
   "metadata": {
    "application/vnd.databricks.v1+cell": {
     "cellMetadata": {
      "byteLimit": 2048000,
      "rowLimit": 10000
     },
     "inputWidgets": {},
     "nuid": "2d175d9f-4665-45d1-bd99-9702f0231a9d",
     "showTitle": false,
     "tableResultSettingsMap": {},
     "title": ""
    }
   },
   "outputs": [],
   "source": [
    "import os\n",
    "import shutil\n",
    "\n",
    "cwd_path = os.getcwd()\n",
    "directories = []\n",
    "for d in os.listdir(cwd_path):\n",
    "    full_path = os.path.join(data_path, d)\n",
    "    if not os.path.isdir(full_path):\n",
    "        continue\n",
    "    src_path = f\"{cwd_path}/{d}\"\n",
    "    dst_path = f\"/Volumes/{UC_CATALOG}/{UC_SCHEMA}/{UC_VOLUME}/{d}\"\n",
    "    print(f\"Copying data from {cwd_path}/{d} to {dst_path}\")\n",
    "    shutil.copytree(src_path, dst_path)"
   ]
  }
 ],
 "metadata": {
  "application/vnd.databricks.v1+notebook": {
   "computePreferences": {
    "hardware": {
     "accelerator": null,
     "gpuPoolId": null,
     "memory": null
    }
   },
   "dashboards": [],
   "environmentMetadata": {
    "base_environment": "",
    "environment_version": "4"
   },
   "inputWidgetPreferences": null,
   "language": "python",
   "notebookMetadata": {
    "pythonIndentUnit": 2
   },
   "notebookName": "00-download-unstructured-data",
   "widgets": {
    "uc_catalog": {
     "currentValue": "main",
     "nuid": "899726e0-4388-427c-9f65-88844672a085",
     "typedWidgetInfo": {
      "autoCreated": false,
      "defaultValue": "main",
      "label": null,
      "name": "uc_catalog",
      "options": {
       "widgetDisplayType": "Text",
       "validationRegex": null
      },
      "parameterDataType": "String"
     },
     "widgetInfo": {
      "widgetType": "text",
      "defaultValue": "main",
      "label": null,
      "name": "uc_catalog",
      "options": {
       "widgetType": "text",
       "autoCreated": false,
       "validationRegex": null
      }
     }
    },
    "uc_schema": {
     "currentValue": "mfg_agent_bricks_demo",
     "nuid": "f5e613cb-6cdb-4510-bce1-517c46cf1ecd",
     "typedWidgetInfo": {
      "autoCreated": false,
      "defaultValue": "mfg_agent_bricks_demo",
      "label": null,
      "name": "uc_schema",
      "options": {
       "widgetDisplayType": "Text",
       "validationRegex": null
      },
      "parameterDataType": "String"
     },
     "widgetInfo": {
      "widgetType": "text",
      "defaultValue": "mfg_agent_bricks_demo",
      "label": null,
      "name": "uc_schema",
      "options": {
       "widgetType": "text",
       "autoCreated": false,
       "validationRegex": null
      }
     }
    },
    "uc_volume": {
     "currentValue": "finance_unstructured_data",
     "nuid": "ef222733-5de2-433e-ae33-3b4a26fc0059",
     "typedWidgetInfo": {
      "autoCreated": false,
      "defaultValue": "finance_unstructured_data",
      "label": null,
      "name": "uc_volume",
      "options": {
       "widgetDisplayType": "Text",
       "validationRegex": null
      },
      "parameterDataType": "String"
     },
     "widgetInfo": {
      "widgetType": "text",
      "defaultValue": "finance_unstructured_data",
      "label": null,
      "name": "uc_volume",
      "options": {
       "widgetType": "text",
       "autoCreated": false,
       "validationRegex": null
      }
     }
    }
   }
  },
  "language_info": {
   "name": "python"
  }
 },
 "nbformat": 4,
 "nbformat_minor": 0
}
